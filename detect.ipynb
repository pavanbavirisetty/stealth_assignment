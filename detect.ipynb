{
 "cells": [
  {
   "cell_type": "code",
   "execution_count": 61,
   "metadata": {},
   "outputs": [],
   "source": [
    "from tracker import track_basketball"
   ]
  },
  {
   "cell_type": "code",
   "execution_count": 63,
   "metadata": {},
   "outputs": [
    {
     "name": "stdout",
     "output_type": "stream",
     "text": [
      "Total No of Dribbles: 103\n",
      "Left Hand Dribbles: 29\n",
      "Right Hand Dribbles: 74\n"
     ]
    }
   ],
   "source": [
    "# read the video path \n",
    "video_path = \"video\\WHATSAAP ASSIGNMENT.mp4\"\n",
    "\n",
    "# print the output \n",
    "result = track_basketball(video_path)"
   ]
  }
 ],
 "metadata": {
  "kernelspec": {
   "display_name": "stealth",
   "language": "python",
   "name": "python3"
  },
  "language_info": {
   "codemirror_mode": {
    "name": "ipython",
    "version": 3
   },
   "file_extension": ".py",
   "mimetype": "text/x-python",
   "name": "python",
   "nbconvert_exporter": "python",
   "pygments_lexer": "ipython3",
   "version": "3.11.4"
  }
 },
 "nbformat": 4,
 "nbformat_minor": 2
}
